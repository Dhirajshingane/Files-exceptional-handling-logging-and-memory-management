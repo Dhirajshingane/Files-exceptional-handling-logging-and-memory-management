{
  "nbformat": 4,
  "nbformat_minor": 0,
  "metadata": {
    "colab": {
      "provenance": []
    },
    "kernelspec": {
      "name": "python3",
      "display_name": "Python 3"
    },
    "language_info": {
      "name": "python"
    }
  },
  "cells": [
    {
      "cell_type": "markdown",
      "source": [
        "\n",
        "# Files, exceptional handling, logging and memory management\n",
        "---\n",
        "\n"
      ],
      "metadata": {
        "id": "-84XLH7XJ16c"
      }
    },
    {
      "cell_type": "markdown",
      "source": [
        "\n",
        "### 1. What is the difference between interpreted and compiled languages?\n",
        "Ans ->\n",
        "\n",
        "\n",
        "* **Compiled languages** (like C, C++) are transformed from source code into machine code by a compiler before execution. The executable runs directly on hardware, making it faster.\n",
        "* **Interpreted languages** (like Python, JavaScript) are executed line-by-line by an interpreter at runtime, which can make them slower but more flexible and easier to debug.\n",
        "\n",
        "---\n",
        "\n",
        "### 2. What is exception handling in Python?\n",
        "Ans ->\n",
        "\n",
        "\n",
        "Exception handling in Python is a way to manage errors (exceptions) that occur during program execution, allowing the program to continue or gracefully exit instead of crashing. It uses `try`, `except`, `else`, and `finally` blocks to catch and respond to errors.\n",
        "\n",
        "---\n",
        "\n",
        "### 3. What is the purpose of the finally block in exception handling?\n",
        "Ans ->\n",
        "\n",
        "\n",
        "The `finally` block is always executed after the `try` and `except` blocks, regardless of whether an exception occurred or not. It is typically used to release resources like closing files or network connections to ensure clean-up actions happen.\n",
        "\n",
        "---\n",
        "\n",
        "### 4. What is logging in Python?\n",
        "Ans ->\n",
        "\n",
        "\n",
        "Logging in Python is a way to record messages that track events, errors, or important information during program execution. The `logging` module allows you to write logs to files or consoles with different severity levels (DEBUG, INFO, WARNING, ERROR, CRITICAL).\n",
        "\n",
        "---\n",
        "\n",
        "### 5. What is the significance of the `__del__` method in Python?\n",
        "Ans ->\n",
        "\n",
        "\n",
        "The `__del__` method is a destructor in Python. It is called when an object is about to be destroyed (garbage collected), allowing you to perform clean-up actions like closing files or releasing external resources.\n",
        "\n",
        "---\n",
        "\n",
        "### 6. What is the difference between `import` and `from import` in Python?\n",
        "Ans ->\n",
        "\n",
        "\n",
        "* `import module` imports the whole module; you use its functions or classes with `module.function()`.\n",
        "* `from module import function` imports specific functions, classes, or variables directly, so you can use them without the module prefix.\n",
        "\n",
        "---\n",
        "\n",
        "### 7. How can you handle multiple exceptions in Python?\n",
        "Ans ->\n",
        "\n",
        "\n",
        "You can handle multiple exceptions using:\n",
        "\n",
        "* A single `except` block with a tuple of exceptions:\n",
        "\n",
        "  ```python\n",
        "  try:\n",
        "      # code\n",
        "  except (TypeError, ValueError):\n",
        "      # handle either exception\n",
        "  ```\n",
        "* Multiple separate `except` blocks, each for different exceptions.\n",
        "\n",
        "---\n",
        "\n",
        "### 8. What is the purpose of the `with` statement when handling files in Python?\n",
        "Ans ->\n",
        "\n",
        "\n",
        "The `with` statement ensures that resources like files are properly acquired and released. When handling files, it automatically closes the file after the block is executed, even if exceptions occur, which prevents resource leaks.\n",
        "\n",
        "---\n",
        "\n",
        "### 9. What is the difference between multithreading and multiprocessing?\n",
        "Ans ->\n",
        "\n",
        "\n",
        "* **Multithreading** runs multiple threads within a single process sharing the same memory space. It's useful for I/O-bound tasks but limited by the Global Interpreter Lock (GIL) in Python.\n",
        "* **Multiprocessing** runs multiple processes, each with its own memory space, allowing true parallelism suitable for CPU-bound tasks but with higher overhead.\n",
        "\n",
        "---\n",
        "\n",
        "### 10. What are the advantages of using logging in a program?\n",
        "Ans ->\n",
        "\n",
        "\n",
        "* Helps in debugging and troubleshooting by recording runtime information.\n",
        "* Maintains a history of events and errors for auditing.\n",
        "* Provides different severity levels to filter messages.\n",
        "* Allows centralized management of log outputs (files, consoles, remote servers).\n",
        "* Helps in monitoring the program behavior without interrupting execution.\n",
        "\n",
        "---\n",
        "\n",
        "### 11. What is memory management in Python?\n",
        "Ans ->\n",
        "\n",
        "\n",
        "Memory management in Python involves the allocation, management, and deallocation of memory for objects. Python uses an automatic garbage collector and reference counting to manage memory, freeing objects that are no longer referenced.\n",
        "\n",
        "---\n",
        "\n",
        "### 12. What are the basic steps involved in exception handling in Python?\n",
        "Ans ->\n",
        "\n",
        "\n",
        "1. **Try**: Write the code block that may raise exceptions inside a `try` block.\n",
        "2. **Except**: Define one or more `except` blocks to catch and handle specific exceptions.\n",
        "3. **Else** (optional): Code to execute if no exceptions occur.\n",
        "4. **Finally** (optional): Code that always executes after `try`/`except`, for cleanup actions.\n",
        "\n",
        "\n",
        "\n",
        "---\n",
        "\n",
        "### 13. Why is memory management important in Python?\n",
        "Ans ->\n",
        "\n",
        "Memory management is important because:\n",
        "\n",
        "* It ensures efficient use of system memory, preventing leaks that can slow or crash programs.\n",
        "* It automatically frees unused objects, helping avoid manual errors.\n",
        "* Proper memory management improves program performance and stability.\n",
        "* It helps manage limited resources, especially in large or long-running applications.\n",
        "\n",
        "---\n",
        "\n",
        "### 14. What is the role of try and except in exception handling?\n",
        "Ans ->\n",
        "\n",
        "\n",
        "* The **`try`** block contains code that might raise exceptions.\n",
        "* The **`except`** block catches and handles exceptions raised inside the `try` block, preventing the program from crashing and allowing graceful error recovery.\n",
        "\n",
        "---\n",
        "\n",
        "### 15. How does Python's garbage collection system work?\n",
        "Ans ->\n",
        "\n",
        "\n",
        "Python uses a combination of:\n",
        "\n",
        "* **Reference counting:** Each object keeps track of how many references point to it. When the count drops to zero, the memory is freed.\n",
        "* **Garbage collector:** It handles cyclic references (objects referencing each other) that reference counting alone can't clean up, by periodically detecting and collecting unreachable cycles.\n",
        "\n",
        "---\n",
        "\n",
        "### 16. What is the purpose of the else block in exception handling?\n",
        "Ans ->\n",
        "\n",
        "\n",
        "The `else` block runs **only if no exceptions occur** in the `try` block. It is useful to place code that should execute when the `try` succeeds without errors, making the flow clearer.\n",
        "\n",
        "---\n",
        "\n",
        "### 17. What are the common logging levels in Python?\n",
        "Ans ->\n",
        "\n",
        "\n",
        "Common logging levels in increasing order of severity are:\n",
        "\n",
        "* **DEBUG:** Detailed diagnostic information.\n",
        "* **INFO:** General information about program execution.\n",
        "* **WARNING:** Indication of potential problems.\n",
        "* **ERROR:** Serious issues that caused errors.\n",
        "* **CRITICAL:** Very severe errors causing program failure.\n",
        "\n",
        "---\n",
        "\n",
        "### 18. What is the difference between `os.fork()` and `multiprocessing` in Python?\n",
        "Ans ->\n",
        "\n",
        "\n",
        "* **`os.fork()`** creates a new process by duplicating the current one at the OS level (only available on Unix-like systems). It gives a child process with a copy of the parent’s memory.\n",
        "* **`multiprocessing` module** provides a higher-level, cross-platform API to create and manage processes with features like process pools, inter-process communication, and easier synchronization.\n",
        "\n",
        "---\n",
        "\n",
        "### 19. What is the importance of closing a file in Python?\n",
        "Ans ->\n",
        "\n",
        "\n",
        "Closing a file:\n",
        "\n",
        "* Releases system resources associated with the file.\n",
        "* Ensures that all buffered data is written to disk.\n",
        "* Prevents data corruption or loss.\n",
        "* Helps avoid reaching the limit of open file descriptors.\n",
        "\n",
        "---\n",
        "\n",
        "### 20. What is the difference between `file.read()` and `file.readline()` in Python?\n",
        "Ans ->\n",
        "\n",
        "\n",
        "* **`file.read()`** reads the entire contents of the file (or a specified number of bytes).\n",
        "* **`file.readline()`** reads the file **one line at a time**, stopping at the newline character.\n",
        "\n",
        "---\n",
        "\n",
        "### 21. What is the logging module in Python used for?\n",
        "Ans ->\n",
        "\n",
        "\n",
        "The `logging` module provides a flexible framework for emitting log messages from Python programs. It helps developers track events during execution, debug issues, and maintain logs at different severity levels with options to output to various destinations.\n",
        "\n",
        "---\n",
        "\n",
        "### 22. What is the os module in Python used for in file handling?\n",
        "Ans ->\n",
        "\n",
        "\n",
        "The `os` module provides operating system dependent functionality such as:\n",
        "\n",
        "* File and directory operations (create, delete, rename).\n",
        "* Fetching file metadata.\n",
        "* Navigating directories.\n",
        "* Interacting with environment variables.\n",
        "* Working with file descriptors.\n",
        "\n",
        "---\n",
        "\n",
        "### 23. What are the challenges associated with memory management in Python?\n",
        "Ans ->\n",
        "\n",
        "\n",
        "Challenges include:\n",
        "\n",
        "* Managing cyclic references that may cause memory leaks.\n",
        "* The **Global Interpreter Lock (GIL)** affecting concurrency and memory use in multithreading.\n",
        "* Handling memory overhead due to Python’s dynamic typing.\n",
        "* Predicting and controlling memory fragmentation.\n",
        "* Efficient management of large data structures or objects.\n",
        "\n",
        "---\n",
        "\n",
        "### 24. How do you raise an exception manually in Python?\n",
        "Ans ->\n",
        "\n",
        "\n",
        "Use the `raise` statement:\n",
        "\n",
        "```python\n",
        "raise ValueError(\"This is an error message\")\n",
        "```\n",
        "\n",
        "This interrupts normal flow and triggers the specified exception.\n",
        "\n",
        "---\n",
        "\n",
        "### 25. Why is it important to use multithreading in certain applications?\n",
        "Ans ->\n",
        "\n",
        "\n",
        "Multithreading is important because:\n",
        "\n",
        "* It improves performance in **I/O-bound** tasks (like file operations, network requests) by allowing the program to do other work while waiting.\n",
        "* It helps maintain responsive user interfaces.\n",
        "* It enables concurrent execution without the overhead of multiple processes.\n",
        "* It allows sharing memory between threads, simplifying communication in some cases.\n",
        "\n",
        "\n",
        "\n"
      ],
      "metadata": {
        "id": "8Y7SrGw-KCNb"
      }
    },
    {
      "cell_type": "markdown",
      "source": [
        "# Practical Questions\n",
        "\n",
        "---\n",
        "\n"
      ],
      "metadata": {
        "id": "wTalQ3seLCoP"
      }
    },
    {
      "cell_type": "markdown",
      "source": [
        "\n",
        "1. How can you open a file for writing in Python and write a string to it?"
      ],
      "metadata": {
        "id": "YXc9hkegLPQO"
      }
    },
    {
      "cell_type": "code",
      "source": [
        "with open(\"example.txt\", \"w\") as file:\n",
        "    file.write(\"Hello, this is a sample string!\")\n"
      ],
      "metadata": {
        "id": "ZrbIeZlVL4kE"
      },
      "execution_count": 7,
      "outputs": []
    },
    {
      "cell_type": "markdown",
      "source": [
        "2. Write a Python program to read the contents of a file and print each line."
      ],
      "metadata": {
        "id": "Q11NSyAvLQv-"
      }
    },
    {
      "cell_type": "code",
      "source": [
        "with open(\"example.txt\", \"r\") as file:\n",
        "    for line in file:\n",
        "        print(line.strip())  # strip removes newline characters\n"
      ],
      "metadata": {
        "colab": {
          "base_uri": "https://localhost:8080/"
        },
        "id": "J7qCzpXQL59u",
        "outputId": "a7e2ac57-a0be-49c2-db8b-325e82c692df"
      },
      "execution_count": 8,
      "outputs": [
        {
          "output_type": "stream",
          "name": "stdout",
          "text": [
            "Hello, this is a sample string!\n"
          ]
        }
      ]
    },
    {
      "cell_type": "markdown",
      "source": [
        "\n",
        "3. How would you handle a case where the file doesn't exist while trying to open it for reading?"
      ],
      "metadata": {
        "id": "Mw6kpD_xLRTS"
      }
    },
    {
      "cell_type": "code",
      "source": [
        "try:\n",
        "    with open(\"nonexistent.txt\", \"r\") as file:\n",
        "        data = file.read()\n",
        "except FileNotFoundError:\n",
        "    print(\"File does not exist.\")\n"
      ],
      "metadata": {
        "colab": {
          "base_uri": "https://localhost:8080/"
        },
        "id": "LLvoJUHfL8xL",
        "outputId": "f22a2296-1c3a-4f7e-fa55-9cf42ce364d5"
      },
      "execution_count": 9,
      "outputs": [
        {
          "output_type": "stream",
          "name": "stdout",
          "text": [
            "File does not exist.\n"
          ]
        }
      ]
    },
    {
      "cell_type": "markdown",
      "source": [
        "4. Write a Python script that reads from one file and writes its content to another file."
      ],
      "metadata": {
        "id": "hT2jGM0MLS1l"
      }
    },
    {
      "cell_type": "code",
      "source": [
        "try:\n",
        "    with open(\"source.txt\", \"r\") as src, open(\"destination.txt\", \"w\") as dest:\n",
        "        for line in src:\n",
        "            dest.write(line)\n",
        "except FileNotFoundError:\n",
        "    print(\"Source file not found.\")\n"
      ],
      "metadata": {
        "colab": {
          "base_uri": "https://localhost:8080/"
        },
        "id": "a5x7trk4MAKv",
        "outputId": "bb574725-ff86-4dff-823d-1a4505bd8951"
      },
      "execution_count": 10,
      "outputs": [
        {
          "output_type": "stream",
          "name": "stdout",
          "text": [
            "Source file not found.\n"
          ]
        }
      ]
    },
    {
      "cell_type": "markdown",
      "source": [
        "5. How would you catch and handle division by zero error in Python?"
      ],
      "metadata": {
        "id": "mGJ3CYoMLUSb"
      }
    },
    {
      "cell_type": "code",
      "source": [
        "try:\n",
        "    result = 10 / 0\n",
        "except ZeroDivisionError:\n",
        "    print(\"Cannot divide by zero.\")\n"
      ],
      "metadata": {
        "colab": {
          "base_uri": "https://localhost:8080/"
        },
        "id": "o8ULP-2YMCVV",
        "outputId": "24966673-e652-4a85-db04-0a6539f0bf8c"
      },
      "execution_count": 11,
      "outputs": [
        {
          "output_type": "stream",
          "name": "stdout",
          "text": [
            "Cannot divide by zero.\n"
          ]
        }
      ]
    },
    {
      "cell_type": "markdown",
      "source": [
        "6. Write a Python program that logs an error message to a log file when a division by zero exception occurs"
      ],
      "metadata": {
        "id": "HhBFVP2HLVrU"
      }
    },
    {
      "cell_type": "code",
      "source": [
        "import logging\n",
        "\n",
        "logging.basicConfig(filename=\"error.log\", level=logging.ERROR)\n",
        "\n",
        "try:\n",
        "    result = 10 / 0\n",
        "except ZeroDivisionError:\n",
        "    logging.error(\"Division by zero error occurred\")\n"
      ],
      "metadata": {
        "colab": {
          "base_uri": "https://localhost:8080/"
        },
        "id": "POYMIWomMDwI",
        "outputId": "483a6e01-799b-4e19-f884-63faac8aa48c"
      },
      "execution_count": 12,
      "outputs": [
        {
          "output_type": "stream",
          "name": "stderr",
          "text": [
            "ERROR:root:Division by zero error occurred\n"
          ]
        }
      ]
    },
    {
      "cell_type": "markdown",
      "source": [
        "7. How do you log information at different levels (INFO, ERROR, WARNING) in Python using the logging module?"
      ],
      "metadata": {
        "id": "3dM5-vXmLX3G"
      }
    },
    {
      "cell_type": "code",
      "source": [
        "import logging\n",
        "\n",
        "logging.basicConfig(level=logging.DEBUG)  # Log all levels DEBUG and above\n",
        "\n",
        "logging.info(\"This is an info message.\")\n",
        "logging.warning(\"This is a warning message.\")\n",
        "logging.error(\"This is an error message.\")\n"
      ],
      "metadata": {
        "colab": {
          "base_uri": "https://localhost:8080/"
        },
        "id": "_JQTC23pMFSL",
        "outputId": "136665b7-f98c-4ee9-d6d3-f5087b6c63f1"
      },
      "execution_count": 13,
      "outputs": [
        {
          "output_type": "stream",
          "name": "stderr",
          "text": [
            "WARNING:root:This is a warning message.\n",
            "ERROR:root:This is an error message.\n"
          ]
        }
      ]
    },
    {
      "cell_type": "markdown",
      "source": [
        "8. Write a program to handle a file opening error using exception handling."
      ],
      "metadata": {
        "id": "KSuTu_v3LZ2-"
      }
    },
    {
      "cell_type": "code",
      "source": [
        "try:\n",
        "    with open(\"somefile.txt\", \"r\") as file:\n",
        "        data = file.read()\n",
        "except FileNotFoundError:\n",
        "    print(\"File not found. Please check the file path.\")\n",
        "except IOError:\n",
        "    print(\"An I/O error occurred.\")\n"
      ],
      "metadata": {
        "colab": {
          "base_uri": "https://localhost:8080/"
        },
        "id": "Whb3LsdCMHCh",
        "outputId": "90043d31-aae7-413c-8303-59767879cb49"
      },
      "execution_count": 14,
      "outputs": [
        {
          "output_type": "stream",
          "name": "stdout",
          "text": [
            "File not found. Please check the file path.\n"
          ]
        }
      ]
    },
    {
      "cell_type": "markdown",
      "source": [
        "9. How can you read a file line by line and store its content in a list in Python?"
      ],
      "metadata": {
        "id": "9wWULq-ULbUV"
      }
    },
    {
      "cell_type": "code",
      "source": [
        "with open(\"example.txt\", \"r\") as file:\n",
        "    lines = file.readlines()  # returns list of lines including newline characters\n",
        "    lines = [line.strip() for line in lines]  # optional: remove newline characters\n",
        "print(lines)\n"
      ],
      "metadata": {
        "colab": {
          "base_uri": "https://localhost:8080/"
        },
        "id": "uJbzDcoqMI4q",
        "outputId": "6c04f682-0163-4d5b-c66f-a4baefeaa6e3"
      },
      "execution_count": 15,
      "outputs": [
        {
          "output_type": "stream",
          "name": "stdout",
          "text": [
            "['Hello, this is a sample string!']\n"
          ]
        }
      ]
    },
    {
      "cell_type": "markdown",
      "source": [
        "10. How can you append data to an existing file in Python?"
      ],
      "metadata": {
        "id": "-BkJNSGnLc5O"
      }
    },
    {
      "cell_type": "code",
      "source": [
        "with open(\"example.txt\", \"a\") as file:\n",
        "    file.write(\"\\nAppended line.\")\n"
      ],
      "metadata": {
        "id": "tNDTTTdeMKst"
      },
      "execution_count": 16,
      "outputs": []
    },
    {
      "cell_type": "markdown",
      "source": [
        "11. Write a Python program that uses a try-except block to handle an error when attempting to access a dictionary key that doesn't exist."
      ],
      "metadata": {
        "id": "wHfflHKzLew-"
      }
    },
    {
      "cell_type": "code",
      "source": [
        "my_dict = {\"name\": \"Alice\"}\n",
        "\n",
        "try:\n",
        "    print(my_dict[\"age\"])\n",
        "except KeyError:\n",
        "    print(\"Key not found in dictionary.\")\n"
      ],
      "metadata": {
        "colab": {
          "base_uri": "https://localhost:8080/"
        },
        "id": "cbmG6wkFMMb5",
        "outputId": "fe28e71e-32e5-43b0-8925-06fc418ca0b2"
      },
      "execution_count": 17,
      "outputs": [
        {
          "output_type": "stream",
          "name": "stdout",
          "text": [
            "Key not found in dictionary.\n"
          ]
        }
      ]
    },
    {
      "cell_type": "markdown",
      "source": [
        "12. Write a program that demonstrates using multiple except blocks to handle different types of exceptions"
      ],
      "metadata": {
        "id": "3v8tTbSRLgtX"
      }
    },
    {
      "cell_type": "code",
      "source": [
        "try:\n",
        "    x = int(input(\"Enter a number: \"))\n",
        "    result = 10 / x\n",
        "    print(f\"Result is {result}\")\n",
        "except ZeroDivisionError:\n",
        "    print(\"Error: Cannot divide by zero.\")\n",
        "except ValueError:\n",
        "    print(\"Error: Invalid input. Please enter a valid integer.\")\n",
        "except Exception as e:\n",
        "    print(f\"An unexpected error occurred: {e}\")\n"
      ],
      "metadata": {
        "colab": {
          "base_uri": "https://localhost:8080/"
        },
        "id": "1uKZZlNRMOD6",
        "outputId": "9d94c422-12c5-4322-f7f8-dc459ff21265"
      },
      "execution_count": 18,
      "outputs": [
        {
          "output_type": "stream",
          "name": "stdout",
          "text": [
            "Enter a number: 3\n",
            "Result is 3.3333333333333335\n"
          ]
        }
      ]
    },
    {
      "cell_type": "markdown",
      "source": [
        "13. How would you check if a file exists before attempting to read it in Python?"
      ],
      "metadata": {
        "id": "d6YmNImVLif1"
      }
    },
    {
      "cell_type": "code",
      "source": [
        "import os\n",
        "\n",
        "if os.path.exists(\"file.txt\"):\n",
        "    with open(\"file.txt\", \"r\") as file:\n",
        "        print(file.read())\n",
        "else:\n",
        "    print(\"File does not exist.\")\n"
      ],
      "metadata": {
        "colab": {
          "base_uri": "https://localhost:8080/"
        },
        "id": "sKz1UJzgMQSF",
        "outputId": "b4fd55fc-1bcd-44ae-f28a-f3cca0408216"
      },
      "execution_count": 19,
      "outputs": [
        {
          "output_type": "stream",
          "name": "stdout",
          "text": [
            "File does not exist.\n"
          ]
        }
      ]
    },
    {
      "cell_type": "markdown",
      "source": [
        "14. Write a program that uses the logging module to log both informational and error messages."
      ],
      "metadata": {
        "id": "li-wr6GNLkw-"
      }
    },
    {
      "cell_type": "code",
      "source": [
        "import logging\n",
        "\n",
        "logging.basicConfig(filename=\"app.log\", level=logging.INFO,\n",
        "                    format=\"%(asctime)s - %(levelname)s - %(message)s\")\n",
        "\n",
        "logging.info(\"This is an informational message.\")\n",
        "try:\n",
        "    1 / 0\n",
        "except ZeroDivisionError:\n",
        "    logging.error(\"Division by zero error occurred.\")\n"
      ],
      "metadata": {
        "colab": {
          "base_uri": "https://localhost:8080/"
        },
        "id": "B-I0v-UXMSZp",
        "outputId": "fc09d819-9ef3-4cbb-ea49-65ffa7a6e462"
      },
      "execution_count": 20,
      "outputs": [
        {
          "output_type": "stream",
          "name": "stderr",
          "text": [
            "ERROR:root:Division by zero error occurred.\n"
          ]
        }
      ]
    },
    {
      "cell_type": "markdown",
      "source": [
        "15. Write a Python program that prints the content of a file and handles the case when the file is empty."
      ],
      "metadata": {
        "id": "CJLCxJ9OLmZh"
      }
    },
    {
      "cell_type": "code",
      "source": [
        "filename = \"example.txt\"\n",
        "\n",
        "with open(filename, \"r\") as file:\n",
        "    content = file.read()\n",
        "\n",
        "if content:\n",
        "    print(content)\n",
        "else:\n",
        "    print(\"The file is empty.\")\n"
      ],
      "metadata": {
        "colab": {
          "base_uri": "https://localhost:8080/"
        },
        "id": "V_ttqBQLMT1G",
        "outputId": "29a17c32-9501-4d46-d73e-9349668b2439"
      },
      "execution_count": 21,
      "outputs": [
        {
          "output_type": "stream",
          "name": "stdout",
          "text": [
            "Hello, this is a sample string!\n",
            "Appended line.\n"
          ]
        }
      ]
    },
    {
      "cell_type": "markdown",
      "source": [
        "16. Demonstrate how to use memory profiling to check the memory usage of a small program."
      ],
      "metadata": {
        "id": "Dhx2euJFLn7Y"
      }
    },
    {
      "cell_type": "code",
      "source": [
        "# Requires: pip install memory_profiler\n",
        "\n",
        "from memory_profiler import profile\n",
        "\n",
        "@profile\n",
        "def my_func():\n",
        "    a = [i for i in range(100000)]\n",
        "    return a\n",
        "\n",
        "if __name__ == \"__main__\":\n",
        "    my_func()\n"
      ],
      "metadata": {
        "colab": {
          "base_uri": "https://localhost:8080/",
          "height": 395
        },
        "id": "c0Q4pKpUMVi9",
        "outputId": "dc35e629-53fe-475a-8510-3202f462771b"
      },
      "execution_count": 23,
      "outputs": [
        {
          "output_type": "error",
          "ename": "ModuleNotFoundError",
          "evalue": "No module named 'memory_profiler'",
          "traceback": [
            "\u001b[0;31m---------------------------------------------------------------------------\u001b[0m",
            "\u001b[0;31mModuleNotFoundError\u001b[0m                       Traceback (most recent call last)",
            "\u001b[0;32m/tmp/ipython-input-13597311.py\u001b[0m in \u001b[0;36m<cell line: 0>\u001b[0;34m()\u001b[0m\n\u001b[1;32m      1\u001b[0m \u001b[0;31m# Requires: pip install memory_profiler\u001b[0m\u001b[0;34m\u001b[0m\u001b[0;34m\u001b[0m\u001b[0m\n\u001b[1;32m      2\u001b[0m \u001b[0;34m\u001b[0m\u001b[0m\n\u001b[0;32m----> 3\u001b[0;31m \u001b[0;32mfrom\u001b[0m \u001b[0mmemory_profiler\u001b[0m \u001b[0;32mimport\u001b[0m \u001b[0mprofile\u001b[0m\u001b[0;34m\u001b[0m\u001b[0;34m\u001b[0m\u001b[0m\n\u001b[0m\u001b[1;32m      4\u001b[0m \u001b[0;34m\u001b[0m\u001b[0m\n\u001b[1;32m      5\u001b[0m \u001b[0;34m@\u001b[0m\u001b[0mprofile\u001b[0m\u001b[0;34m\u001b[0m\u001b[0;34m\u001b[0m\u001b[0m\n",
            "\u001b[0;31mModuleNotFoundError\u001b[0m: No module named 'memory_profiler'",
            "",
            "\u001b[0;31m---------------------------------------------------------------------------\u001b[0;32m\nNOTE: If your import is failing due to a missing package, you can\nmanually install dependencies using either !pip or !apt.\n\nTo view examples of installing some common dependencies, click the\n\"Open Examples\" button below.\n\u001b[0;31m---------------------------------------------------------------------------\u001b[0m\n"
          ],
          "errorDetails": {
            "actions": [
              {
                "action": "open_url",
                "actionText": "Open Examples",
                "url": "/notebooks/snippets/importing_libraries.ipynb"
              }
            ]
          }
        }
      ]
    },
    {
      "cell_type": "code",
      "metadata": {
        "colab": {
          "base_uri": "https://localhost:8080/"
        },
        "id": "14dd989e",
        "outputId": "3014c15a-dcf3-4e1f-a774-d164183b6925"
      },
      "source": [
        "!pip install memory_profiler"
      ],
      "execution_count": 30,
      "outputs": [
        {
          "output_type": "stream",
          "name": "stdout",
          "text": [
            "Requirement already satisfied: memory_profiler in /usr/local/lib/python3.11/dist-packages (0.61.0)\n",
            "Requirement already satisfied: psutil in /usr/local/lib/python3.11/dist-packages (from memory_profiler) (5.9.5)\n"
          ]
        }
      ]
    },
    {
      "cell_type": "markdown",
      "source": [
        "\n",
        "17. Write a Python program to create and write a list of numbers to a file, one number per line."
      ],
      "metadata": {
        "id": "wpgF-9cILpfq"
      }
    },
    {
      "cell_type": "code",
      "source": [
        "numbers = [1, 2, 3, 4, 5]\n",
        "\n",
        "with open(\"numbers.txt\", \"w\") as file:\n",
        "    for number in numbers:\n",
        "        file.write(f\"{number}\\n\")\n"
      ],
      "metadata": {
        "id": "4RchOGcBMYWq"
      },
      "execution_count": 29,
      "outputs": []
    },
    {
      "cell_type": "markdown",
      "source": [
        "18. How would you implement a basic logging setup that logs to a file with rotation after IMB?\n"
      ],
      "metadata": {
        "id": "QqXxJSSWLrYd"
      }
    },
    {
      "cell_type": "code",
      "source": [
        "import logging\n",
        "from logging.handlers import RotatingFileHandler\n",
        "\n",
        "handler = RotatingFileHandler(\"app.log\", maxBytes=1_000_000, backupCount=3)\n",
        "logging.basicConfig(level=logging.INFO, handlers=[handler],\n",
        "                    format=\"%(asctime)s - %(levelname)s - %(message)s\")\n",
        "\n",
        "logging.info(\"Logging with rotation setup.\")\n"
      ],
      "metadata": {
        "id": "8psltZgvMZ5z"
      },
      "execution_count": 28,
      "outputs": []
    },
    {
      "cell_type": "markdown",
      "source": [
        "\n",
        "19. Write a program that handles both indexError and KeyError using a try-except block"
      ],
      "metadata": {
        "id": "Rqw3VrPLLtHZ"
      }
    },
    {
      "cell_type": "code",
      "source": [
        "my_list = [1, 2, 3]\n",
        "my_dict = {\"a\": 10}\n",
        "\n",
        "try:\n",
        "    print(my_list[5])\n",
        "    print(my_dict[\"b\"])\n",
        "except IndexError:\n",
        "    print(\"IndexError: List index out of range.\")\n",
        "except KeyError:\n",
        "    print(\"KeyError: Key not found in dictionary.\")\n"
      ],
      "metadata": {
        "colab": {
          "base_uri": "https://localhost:8080/"
        },
        "id": "gyAes1jZMbny",
        "outputId": "6492657d-153a-43e6-9a62-f90886e33849"
      },
      "execution_count": 27,
      "outputs": [
        {
          "output_type": "stream",
          "name": "stdout",
          "text": [
            "IndexError: List index out of range.\n"
          ]
        }
      ]
    },
    {
      "cell_type": "markdown",
      "source": [
        "20. How would you open a file and read its contents using a context manager in Python?"
      ],
      "metadata": {
        "id": "qDcUUiRDLux6"
      }
    },
    {
      "cell_type": "code",
      "source": [
        "import os\n",
        "\n",
        "filename = \"file.txt\"\n",
        "\n",
        "if os.path.exists(filename):\n",
        "    with open(filename, \"r\") as file:\n",
        "        content = file.read()\n",
        "    print(content)\n",
        "else:\n",
        "    print(f\"Error: The file '{filename}' was not found.\")"
      ],
      "metadata": {
        "colab": {
          "base_uri": "https://localhost:8080/"
        },
        "id": "GT0A292TMdWp",
        "outputId": "3668eb1a-9188-4f2e-e8cf-e28eb3e9a9d9"
      },
      "execution_count": 5,
      "outputs": [
        {
          "output_type": "stream",
          "name": "stdout",
          "text": [
            "Error: The file 'file.txt' was not found.\n"
          ]
        }
      ]
    },
    {
      "cell_type": "markdown",
      "source": [
        "\n",
        "21. Write a Python program that reads a file and prints the number of occurrences of a specific word."
      ],
      "metadata": {
        "id": "3vG9N7suLwh-"
      }
    },
    {
      "cell_type": "code",
      "source": [
        "import os\n",
        "\n",
        "word_to_count = \"python\"\n",
        "count = 0\n",
        "filename = \"file.txt\"\n",
        "\n",
        "if os.path.exists(filename):\n",
        "    with open(filename, \"r\") as file:\n",
        "        for line in file:\n",
        "            count += line.lower().split().count(word_to_count.lower())\n",
        "\n",
        "    print(f\"The word '{word_to_count}' occurred {count} times.\")\n",
        "else:\n",
        "    print(f\"Error: The file '{filename}' was not found.\")"
      ],
      "metadata": {
        "colab": {
          "base_uri": "https://localhost:8080/"
        },
        "id": "dgtP75g-MhsW",
        "outputId": "09dcfc21-0386-44ed-81c2-22cff52cc554"
      },
      "execution_count": 6,
      "outputs": [
        {
          "output_type": "stream",
          "name": "stdout",
          "text": [
            "Error: The file 'file.txt' was not found.\n"
          ]
        }
      ]
    },
    {
      "cell_type": "markdown",
      "source": [
        "22. How can you check if a file is empty before attempting to read its contents?"
      ],
      "metadata": {
        "id": "tJsWRQYQLzG_"
      }
    },
    {
      "cell_type": "code",
      "source": [
        "import os\n",
        "\n",
        "word_to_count = \"python\"\n",
        "count = 0\n",
        "filename = \"file.txt\"\n",
        "\n",
        "if os.path.exists(filename):\n",
        "    with open(filename, \"r\") as file:\n",
        "        for line in file:\n",
        "            count += line.lower().split().count(word_to_count.lower())\n",
        "\n",
        "    print(f\"The word '{word_to_count}' occurred {count} times.\")\n",
        "else:\n",
        "    print(f\"Error: The file '{filename}' was not found.\")"
      ],
      "metadata": {
        "colab": {
          "base_uri": "https://localhost:8080/"
        },
        "id": "CyazAgIfMjXT",
        "outputId": "09f79946-e611-41cf-8ea8-ac9ee7f0ce5d"
      },
      "execution_count": 26,
      "outputs": [
        {
          "output_type": "stream",
          "name": "stdout",
          "text": [
            "Error: The file 'file.txt' was not found.\n"
          ]
        }
      ]
    },
    {
      "cell_type": "markdown",
      "source": [
        "23. Write a Python program that writes to a log file when an error occurs during file handling."
      ],
      "metadata": {
        "id": "zk44AVZRLzi9"
      }
    },
    {
      "cell_type": "code",
      "source": [
        "import logging\n",
        "\n",
        "logging.basicConfig(filename=\"file_errors.log\", level=logging.ERROR)\n",
        "\n",
        "try:\n",
        "    with open(\"nonexistentfile.txt\", \"r\") as file:\n",
        "        data = file.read()\n",
        "except Exception as e:\n",
        "    logging.error(f\"Error while handling file: {e}\")\n"
      ],
      "metadata": {
        "colab": {
          "base_uri": "https://localhost:8080/"
        },
        "id": "stSKfJr_MlD8",
        "outputId": "74f25d3f-1bb7-4a88-d559-94c4c66e6f53"
      },
      "execution_count": 1,
      "outputs": [
        {
          "output_type": "stream",
          "name": "stderr",
          "text": [
            "ERROR:root:Error while handling file: [Errno 2] No such file or directory: 'nonexistentfile.txt'\n"
          ]
        }
      ]
    }
  ]
}